{
 "cells": [
  {
   "cell_type": "code",
   "execution_count": 1,
   "metadata": {},
   "outputs": [
    {
     "name": "stdout",
     "output_type": "stream",
     "text": [
      "Using matplotlib backend: Qt5Agg\n",
      "Populating the interactive namespace from numpy and matplotlib\n"
     ]
    }
   ],
   "source": [
    "%pylab\n",
    "%matplotlib inline"
   ]
  },
  {
   "cell_type": "markdown",
   "metadata": {},
   "source": [
    "**Task 2.1.** Implement Otsu thresholding as a re-usable function:"
   ]
  },
  {
   "cell_type": "code",
   "execution_count": 2,
   "metadata": {},
   "outputs": [],
   "source": [
    "def otsu_thresholding(imgf):\n",
    "    img8 = (imgf * 255).round().astype(numpy.uint8)\n",
    "    \n",
    "    min_otsu_score = +inf\n",
    "    T_opt = None\n",
    "\n",
    "    for T in range(1, 256):\n",
    "        n1 = (img8 <  T).sum()\n",
    "        n2 = (img8 >= T).sum()\n",
    "        var1 = var(img8[img8 <  T]) if n1 > 0 else 0\n",
    "        var2 = var(img8[img8 >= T]) if n2 > 0 else 0\n",
    "        otsu_score = n1 * var1 + n2 * var2\n",
    "        if otsu_score < min_otsu_score:\n",
    "            min_otsu_score = otsu_score\n",
    "            T_opt = T\n",
    "    \n",
    "    seg = (img8 >= T_opt)\n",
    "    return seg"
   ]
  },
  {
   "cell_type": "markdown",
   "metadata": {},
   "source": [
    "**Task 2.2.** Implement a re-usable function to compute the Dice coefficient:"
   ]
  },
  {
   "cell_type": "code",
   "execution_count": 3,
   "metadata": {},
   "outputs": [],
   "source": [
    "def compute_dice(bin1, bin2):\n",
    "    assert bin1.dtype == numpy.bool\n",
    "    assert bin2.dtype == numpy.bool\n",
    "    \n",
    "    dice = 2 * (bin1 * bin2).sum() / (bin1.sum() + bin2.sum())\n",
    "    \n",
    "    return dice"
   ]
  },
  {
   "cell_type": "markdown",
   "metadata": {},
   "source": [
    "**Task 2.3.** Test your implementations from above:"
   ]
  },
  {
   "cell_type": "code",
   "execution_count": 4,
   "metadata": {},
   "outputs": [
    {
     "name": "stdout",
     "output_type": "stream",
     "text": [
      "0.8943783223933183\n"
     ]
    }
   ],
   "source": [
    "img  = imread('../data/NIH3T3/im/dna-0.png')\n",
    "gt   = imread('../data/NIH3T3/gt/0.png').astype(bool)\n",
    "seg  = otsu_thresholding(img)\n",
    "dice = compute_dice(seg, gt)\n",
    "\n",
    "print(dice)"
   ]
  },
  {
   "cell_type": "markdown",
   "metadata": {},
   "source": [
    "The result should be the same as in your `otsu` notebook."
   ]
  },
  {
   "cell_type": "markdown",
   "metadata": {},
   "source": [
    "**Task 2.4.** Perform batch processing:"
   ]
  },
  {
   "cell_type": "code",
   "execution_count": 5,
   "metadata": {},
   "outputs": [
    {
     "name": "stdout",
     "output_type": "stream",
     "text": [
      "Image: 28, Dice: 0.75\n",
      "Image: 29, Dice: 0.65\n",
      "Image: 33, Dice: 0.43\n",
      "Image: 44, Dice: 0.58\n",
      "Image: 46, Dice: 0.08\n",
      "Image: 49, Dice: 0.80\n",
      "\n",
      "Average Dice: 0.55\n"
     ]
    }
   ],
   "source": [
    "dices = []\n",
    "for i in [28,29,33,44,46,49]:\n",
    "    img  = imread(f'../data/NIH3T3/im/dna-{i}.png')\n",
    "    gt   = imread(f'../data/NIH3T3/gt/{i}.png').astype(bool)\n",
    "    seg  = otsu_thresholding(img)\n",
    "    dice = compute_dice(seg, gt)\n",
    "    dices.append(dice)\n",
    "    print(f'Image: {i}, Dice: {dice:.2f}')\n",
    "print(f'\\nAverage Dice: {mean(dices):.2f}')"
   ]
  }
 ],
 "metadata": {
  "kernelspec": {
   "display_name": "Python 3 (ipykernel)",
   "language": "python",
   "name": "python3"
  },
  "language_info": {
   "codemirror_mode": {
    "name": "ipython",
    "version": 3
   },
   "file_extension": ".py",
   "mimetype": "text/x-python",
   "name": "python",
   "nbconvert_exporter": "python",
   "pygments_lexer": "ipython3",
   "version": "3.9.6"
  }
 },
 "nbformat": 4,
 "nbformat_minor": 4
}
